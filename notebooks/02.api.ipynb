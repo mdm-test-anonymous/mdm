{
 "cells": [
  {
   "cell_type": "code",
   "execution_count": 1,
   "metadata": {},
   "outputs": [],
   "source": [
    "import mdm"
   ]
  },
  {
   "cell_type": "code",
   "execution_count": 2,
   "metadata": {},
   "outputs": [
    {
     "name": "stdout",
     "output_type": "stream",
     "text": [
      "2021-05-14 08:38:20,494 | INFO : loaded from : /Users/philippefraisse/Documents/WORK/test/mdm/mdm/../models/gb_v2/gb_v2\n"
     ]
    }
   ],
   "source": [
    "app = mdm.api.main()"
   ]
  },
  {
   "cell_type": "code",
   "execution_count": 3,
   "metadata": {},
   "outputs": [
    {
     "name": "stdout",
     "output_type": "stream",
     "text": [
      " * Serving Flask app \"mdm.api\" (lazy loading)\n",
      " * Environment: production\n",
      "\u001b[31m   WARNING: This is a development server. Do not use it in a production deployment.\u001b[0m\n",
      "\u001b[2m   Use a production WSGI server instead.\u001b[0m\n",
      " * Debug mode: off\n",
      "2021-05-14 08:38:21,604 | WARNING :  * Running on all addresses.\n",
      "   WARNING: This is a development server. Do not use it in a production deployment.\n",
      "2021-05-14 08:38:21,605 | INFO :  * Running on http://192.168.1.13:5000/ (Press CTRL+C to quit)\n",
      "2021-05-14 08:38:25,617 | INFO : log volume\n",
      "2021-05-14 08:38:25,622 | INFO : log density\n",
      "2021-05-14 08:38:25,625 | INFO : log weight\n",
      "2021-05-14 08:38:25,635 | INFO : 127.0.0.1 - - [14/May/2021 08:38:25] \"GET /predict?height=10000&width=10000&depth=1000&weight=10 HTTP/1.1\" 200 -\n"
     ]
    }
   ],
   "source": [
    "app.run(debug=False, host='0.0.0.0', port=5000)"
   ]
  },
  {
   "cell_type": "code",
   "execution_count": null,
   "metadata": {},
   "outputs": [],
   "source": []
  }
 ],
 "metadata": {
  "kernelspec": {
   "display_name": "venv_mdm",
   "language": "python",
   "name": "venv_mdm"
  },
  "language_info": {
   "codemirror_mode": {
    "name": "ipython",
    "version": 3
   },
   "file_extension": ".py",
   "mimetype": "text/x-python",
   "name": "python",
   "nbconvert_exporter": "python",
   "pygments_lexer": "ipython3",
   "version": "3.8.5"
  }
 },
 "nbformat": 4,
 "nbformat_minor": 4
}
