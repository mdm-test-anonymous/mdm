{
 "cells": [
  {
   "cell_type": "code",
   "execution_count": 2,
   "metadata": {},
   "outputs": [],
   "source": [
    "from mdm import datas\n",
    "from sklearn.model_selection import RandomizedSearchCV as _rnd_search\n",
    "from scipy.stats import uniform as _unif\n",
    "from sklearn.ensemble import RandomForestClassifier\n",
    "from sklearn.ensemble import GradientBoostingClassifier\n",
    "import numpy as _np\n",
    "from sklearn.metrics import accuracy_score as _acc\n",
    "import os as _os\n",
    "import pickle as _pkl\n",
    "import logging as _log\n",
    "import seaborn as sns\n",
    "from sklearn.metrics import confusion_matrix as _cm\n",
    "from matplotlib import pyplot as _plt\n",
    "_logger = _log.getLogger(__name__)\n",
    "_logger.setLevel(_log.INFO)\n",
    "sns.set()"
   ]
  },
  {
   "cell_type": "code",
   "execution_count": 3,
   "metadata": {},
   "outputs": [],
   "source": [
    "raw_data = datas.get(\"../data/\", \"dataset.csv\")"
   ]
  },
  {
   "cell_type": "code",
   "execution_count": 4,
   "metadata": {},
   "outputs": [
    {
     "name": "stdout",
     "output_type": "stream",
     "text": [
      "2021-05-14 05:31:11,931 | INFO : log volume\n",
      "2021-05-14 05:31:11,940 | INFO : log density\n",
      "2021-05-14 05:31:11,943 | INFO : log weight\n"
     ]
    }
   ],
   "source": [
    "data = datas.transform(raw_data)"
   ]
  },
  {
   "cell_type": "code",
   "execution_count": 5,
   "metadata": {},
   "outputs": [
    {
     "name": "stdout",
     "output_type": "stream",
     "text": [
      "2021-05-14 05:31:12,976 | INFO : train size : 720\n",
      "2021-05-14 05:31:12,977 | INFO : dev size : 90\n",
      "2021-05-14 05:31:12,977 | INFO : test size : 90\n"
     ]
    }
   ],
   "source": [
    "X_train, y_train, X_dev, y_dev, X_test, y_test = datas.split(data, 'activity',  pct_test=0.2)"
   ]
  },
  {
   "cell_type": "code",
   "execution_count": 29,
   "metadata": {},
   "outputs": [
    {
     "name": "stdout",
     "output_type": "stream",
     "text": [
      "0.7861111111111111\n",
      "{'n_estimators': 93, 'min_samples_leaf': 3, 'max_samples': 45, 'max_features': 2}\n"
     ]
    }
   ],
   "source": [
    "distributions = {'n_estimators':range(2, 150, 1),\n",
    "        'min_samples_leaf':range(2, 50, 1),\n",
    "        'max_features':range(2, len(data.columns), 1),\n",
    "        'max_samples':range(2, 50, 1)\n",
    "       }\n",
    "rf = RandomForestClassifier()\n",
    "clf_rf = _rnd_search(rf, distributions, random_state=0, n_iter=100, n_jobs=-1)\n",
    "search_rf = clf_rf.fit(X_train, y_train)\n",
    "print(search.best_score_)\n",
    "print(search.best_params_)"
   ]
  },
  {
   "cell_type": "code",
   "execution_count": 62,
   "metadata": {},
   "outputs": [
    {
     "name": "stdout",
     "output_type": "stream",
     "text": [
      "0.8222222222222223\n",
      "{'n_estimators': 73, 'min_samples_leaf': 6, 'max_features': 4, 'max_depth': 6, 'learning_rate': 0.1}\n"
     ]
    }
   ],
   "source": [
    "distributions = {'n_estimators' : range(2, 300, 1),\n",
    "        'min_samples_leaf' : range(2, 50, 1),\n",
    "        'max_features' : range(2, len(data.columns), 1),\n",
    "        'learning_rate' : [1.0 * 10 ** -i for i in range(7)],\n",
    "        'max_depth' : range(2, 20, 1)\n",
    "       }\n",
    "gb = GradientBoostingClassifier()\n",
    "clf_gb = _rnd_search(gb, distributions, random_state=0, n_iter=200, n_jobs=-1, cv=4)\n",
    "search_gb = clf_gb.fit(X_train, y_train)\n",
    "print(search_gb.best_score_)\n",
    "print(search_gb.best_params_)"
   ]
  },
  {
   "cell_type": "code",
   "execution_count": 65,
   "metadata": {},
   "outputs": [
    {
     "data": {
      "text/plain": [
       "GradientBoostingClassifier(max_depth=6, max_features=4, min_samples_leaf=6,\n",
       "                           n_estimators=73)"
      ]
     },
     "execution_count": 65,
     "metadata": {},
     "output_type": "execute_result"
    }
   ],
   "source": [
    "search_gb.best_estimator_"
   ]
  },
  {
   "cell_type": "code",
   "execution_count": 170,
   "metadata": {},
   "outputs": [],
   "source": [
    "def save(model, path, name):\n",
    "    if not _os.path.exists(_os.path.join(path, name)):\n",
    "        _os.makedirs(_os.path.join(path, name))\n",
    "    _pkl.dump(model, open(_os.path.join(path, name, 'model.pkl'), 'wb'))\n",
    "    _logger.info(\"saved to : {0}\".format(_os.path.join(path, name)))\n",
    "    \n",
    "def load(path, name):\n",
    "    model = _pkl.load(open(_os.path.join(path, name, 'model.pkl'), 'rb'))\n",
    "    _logger.info(\"loaded from : {0}\".format(_os.path.join(path, name)))\n",
    "    return model\n",
    "\n",
    "def train(mdl, X_train, y_train, X_dev, y_dev):\n",
    "    mdl.fit(X_train, y_train)\n",
    "    y_pred = mdl.predict(X_dev)\n",
    "    acc = _acc(y_dev,y_pred)\n",
    "    _logger.info(\"accuracy : {0}\".format(acc))\n",
    "    return acc, mdl\n",
    "\n",
    "def evaluate(model, X, y):\n",
    "    y_pred = model.predict(X)\n",
    "    acc = _acc(y,y_pred)\n",
    "    _logger.info(\"accuracy : {0}\".format(acc))\n",
    "    return acc\n",
    "\n",
    "def predict(model, X):\n",
    "    y_pred = model.predict(X)\n",
    "    return y_pred\n",
    "\n",
    "def confusion_matrix(y_true, y_preds, labels, save_path=None):\n",
    "    rst = _cm(y_true, y_preds, normalize='true', labels=labels)\n",
    "    palette = sns.diverging_palette(20, 220, as_cmap=True)\n",
    "    _plt.figure(figsize=(10,5))\n",
    "    sns.heatmap(rst, xticklabels=labels, yticklabels=labels, cmap=palette, annot=True)\n",
    "    if save_path:\n",
    "        sp = _os.path.join(save_path, 'confusion_matrix.png')\n",
    "        _logger.info(\"saving to : {0}\".format(sp))\n",
    "        _plt.savefig(sp, dpi=400)\n",
    "        \n",
    "def feature_importance(feat_imp, feats, save_path=None):\n",
    "    feature_importance = 100.0 * (feat_imp / feat_imp.max())\n",
    "    sorted_idx = _np.argsort(feat_imp)\n",
    "    pos = _np.arange(sorted_idx.shape[0]) + .5\n",
    "    # plt.subplot(1, 2, 2)\n",
    "    _plt.figure(figsize=(8, 18))\n",
    "    _plt.barh(pos, feat_imp[sorted_idx], align='center')\n",
    "    _plt.yticks(pos, feats[sorted_idx])\n",
    "    _plt.title('Feature Importance')\n",
    "    if save_path:\n",
    "        sp = _os.path.join(save_path, 'feature_importance.png')\n",
    "        _logger.info(\"saving to : {0}\".format(sp))\n",
    "        _plt.savefig(sp, dpi=400)\n",
    "    _plt.show()"
   ]
  },
  {
   "cell_type": "code",
   "execution_count": 154,
   "metadata": {},
   "outputs": [],
   "source": [
    "models_path = '.'\n",
    "model_name = 'gb_v1'"
   ]
  },
  {
   "cell_type": "code",
   "execution_count": 155,
   "metadata": {},
   "outputs": [
    {
     "name": "stdout",
     "output_type": "stream",
     "text": [
      "2021-05-14 01:38:27,709 | INFO : saved to : ./gb_v1\n"
     ]
    }
   ],
   "source": [
    "save(search_gb.best_estimator_, models_path, model_name)"
   ]
  },
  {
   "cell_type": "code",
   "execution_count": 156,
   "metadata": {},
   "outputs": [
    {
     "name": "stdout",
     "output_type": "stream",
     "text": [
      "2021-05-14 01:38:28,420 | INFO : loaded from : ./gb_v1\n"
     ]
    }
   ],
   "source": [
    "model = load(models_path, model_name)"
   ]
  },
  {
   "cell_type": "code",
   "execution_count": 79,
   "metadata": {},
   "outputs": [
    {
     "name": "stdout",
     "output_type": "stream",
     "text": [
      "2021-05-14 01:06:20,076 | INFO : accuracy : 0.8111111111111111\n"
     ]
    }
   ],
   "source": [
    "mdl = GradientBoostingClassifier(max_depth=6, max_features=4, min_samples_leaf=6,\n",
    "                           n_estimators=73)\n",
    "acc, model = train(mdl, X_train, y_train, X_dev.append(X_test), y_dev.append(y_test))"
   ]
  },
  {
   "cell_type": "code",
   "execution_count": 140,
   "metadata": {},
   "outputs": [
    {
     "name": "stdout",
     "output_type": "stream",
     "text": [
      "2021-05-14 01:24:01,960 | INFO : accuracy : 0.8111111111111111\n"
     ]
    }
   ],
   "source": [
    "val = evaluate(search_gb.best_estimator_, X_dev.append(X_test), y_dev.append(y_test))"
   ]
  },
  {
   "cell_type": "code",
   "execution_count": 141,
   "metadata": {},
   "outputs": [],
   "source": [
    "preds = predict(model, X_dev.append(X_test))"
   ]
  },
  {
   "cell_type": "code",
   "execution_count": 142,
   "metadata": {},
   "outputs": [],
   "source": [
    "test_set = X_dev.append(X_test)\n",
    "test_set['preds'] = preds\n",
    "test_set['activity'] = y_dev.append(y_test)"
   ]
  },
  {
   "cell_type": "code",
   "execution_count": 164,
   "metadata": {},
   "outputs": [
    {
     "name": "stdout",
     "output_type": "stream",
     "text": [
      "2021-05-14 01:41:06,567 | INFO : saving to : ./gb_v1/confusion_matrix.png\n"
     ]
    },
    {
     "data": {
      "image/png": "[encoded data removed]",
      "text/plain": [
       "<Figure size 720x360 with 2 Axes>"
      ]
     },
     "metadata": {},
     "output_type": "display_data"
    }
   ],
   "source": [
    "labels = ['mlp', 'deco', 'meuble']\n",
    "confusion_matrix(test_set.activity, test_set.preds, labels, save_path=_os.path.join(models_path, model_name))"
   ]
  },
  {
   "cell_type": "code",
   "execution_count": 169,
   "metadata": {},
   "outputs": [
    {
     "name": "stdout",
     "output_type": "stream",
     "text": [
      "2021-05-14 01:42:22,261 | INFO : saving to : ./gb_v1/feature_importance.png\n"
     ]
    },
    {
     "data": {
      "image/png": "[encoded data removed]",
      "text/plain": [
       "<Figure size 576x1296 with 1 Axes>"
      ]
     },
     "metadata": {},
     "output_type": "display_data"
    }
   ],
   "source": [
    "feats = X_train.columns\n",
    "feature_importance(model.feature_importances_, feats, save_path=_os.path.join(models_path, model_name))"
   ]
  },
  {
   "cell_type": "code",
   "execution_count": null,
   "metadata": {},
   "outputs": [],
   "source": []
  }
 ],
 "metadata": {
  "kernelspec": {
   "display_name": "venv_mdm",
   "language": "python",
   "name": "venv_mdm"
  },
  "language_info": {
   "codemirror_mode": {
    "name": "ipython",
    "version": 3
   },
   "file_extension": ".py",
   "mimetype": "text/x-python",
   "name": "python",
   "nbconvert_exporter": "python",
   "pygments_lexer": "ipython3",
   "version": "3.8.5"
  }
 },
 "nbformat": 4,
 "nbformat_minor": 5
}
